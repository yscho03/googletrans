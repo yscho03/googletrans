{
 "cells": [
  {
   "cell_type": "code",
   "execution_count": 1,
   "metadata": {},
   "outputs": [],
   "source": [
    "from googletrans import Translator\n",
    "\n",
    "translator = Translator()"
   ]
  },
  {
   "cell_type": "code",
   "execution_count": 2,
   "metadata": {},
   "outputs": [
    {
     "name": "stdout",
     "output_type": "stream",
     "text": [
      "------------------------------\n",
      ">>> src: ko\n",
      ">>> dest: en\n",
      ">>> origin text: 안녕하세요.\n",
      ">>> traslated text: Hello.\n",
      ">>> pronunciation: None\n"
     ]
    }
   ],
   "source": [
    "# In the case of a call without an argument value, the translation language defaults to en.\n",
    "translation = translator.translate('안녕하세요.')\n",
    "\n",
    "print('-' * 30)\n",
    "print('>>> src: {}'.format(translation.src))\n",
    "print('>>> dest: {}'.format(translation.dest))\n",
    "print('>>> origin text: {}'.format(translation.origin))\n",
    "print('>>> traslated text: {}'.format(translation.text))\n",
    "print('>>> pronunciation: {}'.format(translation.pronunciation))"
   ]
  },
  {
   "cell_type": "code",
   "execution_count": 3,
   "metadata": {},
   "outputs": [
    {
     "name": "stdout",
     "output_type": "stream",
     "text": [
      "------------------------------\n",
      ">>> src: ko\n",
      ">>> dest: ja\n",
      ">>> origin text: 안녕하세요.\n",
      ">>> traslated text: こんにちは。\n",
      ">>> pronunciation: Kon'nichiwa.\n"
     ]
    }
   ],
   "source": [
    "# You can explicitly specify the translation language with the keyword argument value dest.\n",
    "translation = translator.translate('안녕하세요.', dest='ja')\n",
    "\n",
    "print('-' * 30)\n",
    "print('>>> src: {}'.format(translation.src))\n",
    "print('>>> dest: {}'.format(translation.dest))\n",
    "print('>>> origin text: {}'.format(translation.origin))\n",
    "print('>>> traslated text: {}'.format(translation.text))\n",
    "print('>>> pronunciation: {}'.format(translation.pronunciation))"
   ]
  },
  {
   "cell_type": "code",
   "execution_count": 4,
   "metadata": {},
   "outputs": [
    {
     "name": "stdout",
     "output_type": "stream",
     "text": [
      "------------------------------\n",
      ">>> src: ko\n",
      ">>> dest: ja\n",
      ">>> origin text: 안녕하세요.\n",
      ">>> traslated text: こんにちは。\n",
      ">>> pronunciation: Kon'nichiwa.\n"
     ]
    }
   ],
   "source": [
    "# src can also be explicitly specified as a keyword argument value, but if it does not exist, it is automatically detected.\n",
    "translation = translator.translate('안녕하세요.', src='ko', dest='ja')\n",
    "\n",
    "print('-' * 30)\n",
    "print('>>> src: {}'.format(translation.src))\n",
    "print('>>> dest: {}'.format(translation.dest))\n",
    "print('>>> origin text: {}'.format(translation.origin))\n",
    "print('>>> traslated text: {}'.format(translation.text))\n",
    "print('>>> pronunciation: {}'.format(translation.pronunciation))"
   ]
  },
  {
   "cell_type": "code",
   "execution_count": 5,
   "metadata": {},
   "outputs": [
    {
     "name": "stdout",
     "output_type": "stream",
     "text": [
      "------------------------------\n",
      ">>> lang: ja\n",
      ">>> confidence: None\n"
     ]
    }
   ],
   "source": [
    "detection = translator.detect('こんにちは。')\n",
    "\n",
    "print('-' * 30)\n",
    "print('>>> lang: {}'.format(detection.lang))\n",
    "print('>>> confidence: {}'.format(detection.confidence))"
   ]
  },
  {
   "cell_type": "code",
   "execution_count": 6,
   "metadata": {},
   "outputs": [],
   "source": [
    "SPECIAL_CASES = {\n",
    "    'ee': 'et',\n",
    "}\n",
    "\n",
    "LANGUAGES = {\n",
    "    'af': 'afrikaans',\n",
    "    'sq': 'albanian',\n",
    "    'am': 'amharic',\n",
    "    'ar': 'arabic',\n",
    "    'hy': 'armenian',\n",
    "    'az': 'azerbaijani',\n",
    "    'eu': 'basque',\n",
    "    'be': 'belarusian',\n",
    "    'bn': 'bengali',\n",
    "    'bs': 'bosnian',\n",
    "    'bg': 'bulgarian',\n",
    "    'ca': 'catalan',\n",
    "    'ceb': 'cebuano',\n",
    "    'ny': 'chichewa',\n",
    "    'zh-cn': 'chinese (simplified)',\n",
    "    'zh-tw': 'chinese (traditional)',\n",
    "    'co': 'corsican',\n",
    "    'hr': 'croatian',\n",
    "    'cs': 'czech',\n",
    "    'da': 'danish',\n",
    "    'nl': 'dutch',\n",
    "    'en': 'english',\n",
    "    'eo': 'esperanto',\n",
    "    'et': 'estonian',\n",
    "    'tl': 'filipino',\n",
    "    'fi': 'finnish',\n",
    "    'fr': 'french',\n",
    "    'fy': 'frisian',\n",
    "    'gl': 'galician',\n",
    "    'ka': 'georgian',\n",
    "    'de': 'german',\n",
    "    'el': 'greek',\n",
    "    'gu': 'gujarati',\n",
    "    'ht': 'haitian creole',\n",
    "    'ha': 'hausa',\n",
    "    'haw': 'hawaiian',\n",
    "    'iw': 'hebrew',\n",
    "    'he': 'hebrew',\n",
    "    'hi': 'hindi',\n",
    "    'hmn': 'hmong',\n",
    "    'hu': 'hungarian',\n",
    "    'is': 'icelandic',\n",
    "    'ig': 'igbo',\n",
    "    'id': 'indonesian',\n",
    "    'ga': 'irish',\n",
    "    'it': 'italian',\n",
    "    'ja': 'japanese',\n",
    "    'jw': 'javanese',\n",
    "    'kn': 'kannada',\n",
    "    'kk': 'kazakh',\n",
    "    'km': 'khmer',\n",
    "    'ko': 'korean',\n",
    "    'ku': 'kurdish (kurmanji)',\n",
    "    'ky': 'kyrgyz',\n",
    "    'lo': 'lao',\n",
    "    'la': 'latin',\n",
    "    'lv': 'latvian',\n",
    "    'lt': 'lithuanian',\n",
    "    'lb': 'luxembourgish',\n",
    "    'mk': 'macedonian',\n",
    "    'mg': 'malagasy',\n",
    "    'ms': 'malay',\n",
    "    'ml': 'malayalam',\n",
    "    'mt': 'maltese',\n",
    "    'mi': 'maori',\n",
    "    'mr': 'marathi',\n",
    "    'mn': 'mongolian',\n",
    "    'my': 'myanmar (burmese)',\n",
    "    'ne': 'nepali',\n",
    "    'no': 'norwegian',\n",
    "    'or': 'odia',\n",
    "    'ps': 'pashto',\n",
    "    'fa': 'persian',\n",
    "    'pl': 'polish',\n",
    "    'pt': 'portuguese',\n",
    "    'pa': 'punjabi',\n",
    "    'ro': 'romanian',\n",
    "    'ru': 'russian',\n",
    "    'sm': 'samoan',\n",
    "    'gd': 'scots gaelic',\n",
    "    'sr': 'serbian',\n",
    "    'st': 'sesotho',\n",
    "    'sn': 'shona',\n",
    "    'sd': 'sindhi',\n",
    "    'si': 'sinhala',\n",
    "    'sk': 'slovak',\n",
    "    'sl': 'slovenian',\n",
    "    'so': 'somali',\n",
    "    'es': 'spanish',\n",
    "    'su': 'sundanese',\n",
    "    'sw': 'swahili',\n",
    "    'sv': 'swedish',\n",
    "    'tg': 'tajik',\n",
    "    'ta': 'tamil',\n",
    "    'te': 'telugu',\n",
    "    'th': 'thai',\n",
    "    'tr': 'turkish',\n",
    "    'uk': 'ukrainian',\n",
    "    'ur': 'urdu',\n",
    "    'ug': 'uyghur',\n",
    "    'uz': 'uzbek',\n",
    "    'vi': 'vietnamese',\n",
    "    'cy': 'welsh',\n",
    "    'xh': 'xhosa',\n",
    "    'yi': 'yiddish',\n",
    "    'yo': 'yoruba',\n",
    "    'zu': 'zulu',\n",
    "}"
   ]
  },
  {
   "cell_type": "code",
   "execution_count": null,
   "metadata": {},
   "outputs": [],
   "source": []
  }
 ],
 "metadata": {
  "kernelspec": {
   "display_name": "Python [conda env:study]",
   "language": "python",
   "name": "conda-env-study-py"
  },
  "language_info": {
   "codemirror_mode": {
    "name": "ipython",
    "version": 3
   },
   "file_extension": ".py",
   "mimetype": "text/x-python",
   "name": "python",
   "nbconvert_exporter": "python",
   "pygments_lexer": "ipython3",
   "version": "3.7.11"
  }
 },
 "nbformat": 4,
 "nbformat_minor": 4
}
