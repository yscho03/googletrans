{
 "cells": [
  {
   "cell_type": "code",
   "execution_count": 1,
   "metadata": {},
   "outputs": [
    {
     "data": {
      "text/plain": [
       "['Hello', 'Did you have some meal?']"
      ]
     },
     "execution_count": 1,
     "metadata": {},
     "output_type": "execute_result"
    }
   ],
   "source": [
    "from googletrans import Translator\n",
    "\n",
    "target_texts = ['안녕하세요', '밥 먹었습니까?']\n",
    "\n",
    "translator = Translator()\n",
    "translated_texts = []\n",
    "\n",
    "for target_text in target_texts:\n",
    "    translated_texts.append(translator.translate(text=target_text, dest='en').text)\n",
    "    \n",
    "translated_texts"
   ]
  },
  {
   "cell_type": "code",
   "execution_count": 2,
   "metadata": {},
   "outputs": [],
   "source": [
    "DELIMITER = '\\n'\n",
    "MAX_BYTE = 1024 * 15  # 15k"
   ]
  },
  {
   "cell_type": "code",
   "execution_count": 3,
   "metadata": {},
   "outputs": [],
   "source": [
    "def wrap_text(texts):\n",
    "    \"\"\"\n",
    "    Request a section that is not translated by combining sentences with specific symbols.\n",
    "    ex) ['안녕하세요', '밥 먹었습니까?'] → '안녕하세요\\n밥 먹었습니까?'\n",
    "    \"\"\"\n",
    "    texts = [text.replace(DELIMITER, '<span class=\"notranslate\">space</span>') for text in texts]\n",
    "    return DELIMITER.join(texts)\n",
    "\n",
    "def unwrap_text(wrapped_text):\n",
    "    \"\"\"\n",
    "    Cuts the translated sentence back to a specific symbol.\n",
    "    예) '안녕하세요\\n밥 먹었습니까?' →  ['안녕하세요', '밥 먹었습니까?']\n",
    "    \"\"\"\n",
    "    texts = wrapped_text.split(DELIMITER)\n",
    "    texts = [text.replace('<span class=\"notranslate\">space</span>', DELIMITER) for text in texts]\n",
    "    return texts"
   ]
  },
  {
   "cell_type": "code",
   "execution_count": 4,
   "metadata": {},
   "outputs": [
    {
     "data": {
      "text/plain": [
       "'안녕하세요\\n밥 먹었습니까?'"
      ]
     },
     "execution_count": 4,
     "metadata": {},
     "output_type": "execute_result"
    }
   ],
   "source": [
    "wrap_text(target_texts)"
   ]
  },
  {
   "cell_type": "code",
   "execution_count": 5,
   "metadata": {},
   "outputs": [],
   "source": [
    "def chunk_text_byte(text, max_byte=MAX_BYTE, delimiter=DELIMITER):\n",
    "    \"\"\"\n",
    "    When the translate function is sequentially requested for a large number of translated sentences, \n",
    "    it internally requests the API request several times, resulting in a slow response in terms of performance.\n",
    "    Since the number of characters is limited up to 15K, it is possible to reduce the network load by requesting in 15K increments.\n",
    "    \"\"\"\n",
    "    text = text.encode('utf-8')\n",
    "    delimiter = delimiter.encode('utf-8')\n",
    "    words = iter(text.split(delimiter))\n",
    "    lines, current = [], next(words)\n",
    "\n",
    "    for word in words:\n",
    "        if len(current) + 1 + len(word) > max_byte:\n",
    "            lines.append(current.decode('utf-8'))\n",
    "            current = word\n",
    "        else:\n",
    "            current += delimiter + word\n",
    "    lines.append(current.decode('utf-8'))\n",
    "    return lines"
   ]
  },
  {
   "cell_type": "code",
   "execution_count": 6,
   "metadata": {},
   "outputs": [
    {
     "name": "stdout",
     "output_type": "stream",
     "text": [
      "['Hello', 'Did you have some meal?']\n"
     ]
    }
   ],
   "source": [
    "translator = Translator()\n",
    "translation = ''\n",
    "for splitted_text in chunk_text_byte(wrap_text(target_texts)):\n",
    "    translation += translator.translate(text=splitted_text, dest='en').text\n",
    "    \n",
    "translated_texts = []\n",
    "for translated_text in unwrap_text(translation):\n",
    "    translated_texts.append(translated_text)    \n",
    "    \n",
    "print(translated_texts)    "
   ]
  },
  {
   "cell_type": "code",
   "execution_count": null,
   "metadata": {},
   "outputs": [],
   "source": []
  }
 ],
 "metadata": {
  "kernelspec": {
   "display_name": "Python [conda env:study]",
   "language": "python",
   "name": "conda-env-study-py"
  },
  "language_info": {
   "codemirror_mode": {
    "name": "ipython",
    "version": 3
   },
   "file_extension": ".py",
   "mimetype": "text/x-python",
   "name": "python",
   "nbconvert_exporter": "python",
   "pygments_lexer": "ipython3",
   "version": "3.7.11"
  }
 },
 "nbformat": 4,
 "nbformat_minor": 4
}
